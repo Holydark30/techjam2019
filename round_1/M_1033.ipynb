{
 "cells": [
  {
   "cell_type": "code",
   "execution_count": null,
   "metadata": {
    "colab": {},
    "colab_type": "code",
    "collapsed": true,
    "id": "ey6Aiu8G-jcL"
   },
   "outputs": [],
   "source": [
    "import pandas as pd\n",
    "import matplotlib.pyplot as plt\n",
    "import seaborn as sns\n",
    "import ast\n",
    "from sklearn.model_selection import train_test_split\n",
    "import xgboost as xgb\n",
    "import numpy as np\n",
    "sns.set_style(\"darkgrid\")"
   ]
  },
  {
   "cell_type": "code",
   "execution_count": null,
   "metadata": {
    "colab": {},
    "colab_type": "code",
    "collapsed": true,
    "id": "xbho1I2v_SFR"
   },
   "outputs": [],
   "source": [
    "# Initial input paths were based on Kaggle's kernel notebook. \n",
    "train = pd.read_csv('../input/techjam2019/train.csv')\n",
    "demograph = pd.read_csv('../input/techjam2019/demographics.csv')\n",
    "kplus = pd.read_csv('../input/techjam2019/kplus.csv')\n",
    "cc = pd.read_csv('../input/techjam2019/cc.csv')\n",
    "test = pd.read_csv('../input/techjam2019/test.csv')\n"
   ]
  },
  {
   "cell_type": "code",
   "execution_count": null,
   "metadata": {
    "colab": {},
    "colab_type": "code",
    "collapsed": true,
    "id": "XbgDJmLko4WD"
   },
   "outputs": [],
   "source": [
    "demograph['ocp_cd'].fillna(demograph['ocp_cd'].mode().iloc[0], inplace=True)\n",
    "demograph = demograph.astype({'ocp_cd': 'uint8',\n",
    "                            'gender':'uint8',\n",
    "                            'age':'uint8'})"
   ]
  },
  {
   "cell_type": "code",
   "execution_count": null,
   "metadata": {
    "colab": {},
    "colab_type": "code",
    "collapsed": true,
    "id": "WXGmrfLdeM_d"
   },
   "outputs": [],
   "source": [
    "kplus['sunday'] = pd.to_datetime(kplus['sunday'])"
   ]
  },
  {
   "cell_type": "code",
   "execution_count": null,
   "metadata": {
    "colab": {},
    "colab_type": "code",
    "collapsed": true,
    "id": "wL0vHTWiX7_V"
   },
   "outputs": [],
   "source": [
    "df_kp = kplus.groupby(\"id\")[[\"kp_txn_count\",\"kp_txn_amt\"]].agg([\"mean\",\"sum\"]).reset_index()\n",
    "df_kp.columns = [\"id\", \"kp_avg_count\", \"kp_sum_count\", \"kp_avg_amt\", \"kp_sum_amt\"]"
   ]
  },
  {
   "cell_type": "code",
   "execution_count": null,
   "metadata": {
    "colab": {
     "base_uri": "https://localhost:8080/",
     "height": 204
    },
    "colab_type": "code",
    "collapsed": true,
    "id": "1fBP5uUzsClJ",
    "outputId": "5b81ae45-9485-4116-a140-2a2f51369ca0"
   },
   "outputs": [],
   "source": [
    "df_kp[\"kp_totalamt_per_count\"] = df_kp[\"kp_sum_amt\"] / df_kp[\"kp_sum_count\"]"
   ]
  },
  {
   "cell_type": "code",
   "execution_count": null,
   "metadata": {
    "colab": {},
    "colab_type": "code",
    "collapsed": true,
    "id": "8nENg2OvUq_X"
   },
   "outputs": [],
   "source": [
    "kplus['week'] = kplus['sunday'].dt.week\n",
    "kplus['month'] = kplus['sunday'].dt.month\n",
    "kplus['week'] = kplus['sunday'].dt.week"
   ]
  },
  {
   "cell_type": "code",
   "execution_count": null,
   "metadata": {
    "collapsed": true
   },
   "outputs": [],
   "source": [
    "kplus['kp_month_max_spending'] = kplus.groupby(['id','month'])['kp_txn_amt'].transform(max)\n",
    "kplus['kp_month_min_spending'] = kplus.groupby(['id','month'])['kp_txn_amt'].transform(min)\n",
    "kplus['kp_month_max_count'] = kplus.groupby(['id','month'])['kp_txn_count'].transform(max)\n",
    "kplus['kp_month_min_count'] = kplus.groupby(['id','month'])['kp_txn_count'].transform(min)\n",
    "\n",
    "k = kplus[kplus.groupby(['id','month'])['week'].transform(max) == kplus['week']]\n",
    "col = ['kp_month_max_spending_max','kp_month_max_spending_mean',\n",
    "       'kp_month_min_spending_min','kp_month_min_spending_mean',\n",
    "       'kp_txn_amt_max_fin_week','kp_txn_amt_mean_fin_week',\n",
    "       'kp_txn_amt_min_fin_week',\n",
    "       'kp_txn_count_max_fin_week','kp_txn_count_mean_fin_week',\n",
    "       'kp_txn_count_min_fin_week']\n",
    "\n",
    "df_kp[col] = k.groupby(['id']).agg({'kp_month_max_spending': ['max','mean'],\n",
    "                       'kp_month_min_spending': ['min','mean'],\n",
    "                       'kp_txn_amt': ['max','mean','min'],\n",
    "                       'kp_txn_count': ['max','mean','min']}).reset_index().drop('id', axis=1)\n"
   ]
  },
  {
   "cell_type": "code",
   "execution_count": null,
   "metadata": {
    "collapsed": true
   },
   "outputs": [],
   "source": [
    "k = kplus.groupby(['id','month'])['kp_txn_amt'].sum().reset_index()\n",
    "# Try creating features based on monthly spending\n",
    "for month in range(1,7):\n",
    "    l = k[k.month == month].reset_index(drop=True).drop('month',axis=1)\n",
    "    l.columns = ['id', 'kp_txn_amt_month_'+str(month)]\n",
    "    df_kp = df_kp.merge(l, how=\"left\", on=\"id\")"
   ]
  },
  {
   "cell_type": "code",
   "execution_count": null,
   "metadata": {
    "colab": {},
    "colab_type": "code",
    "collapsed": true,
    "id": "Inxk1gAPPYb7"
   },
   "outputs": [],
   "source": [
    "df_kp['kp_week_avg_interval'] = kplus.groupby('id')['week'].agg(lambda group: group.sort_values().diff().mean()).reset_index()['week']\n"
   ]
  },
  {
   "cell_type": "code",
   "execution_count": null,
   "metadata": {
    "colab": {
     "base_uri": "https://localhost:8080/",
     "height": 51
    },
    "colab_type": "code",
    "collapsed": true,
    "id": "yiuOtVYYHQpZ",
    "outputId": "42f3fb62-1c2c-4742-a60a-c74dd3f9c0f3"
   },
   "outputs": [],
   "source": [
    "uniq_cc = cc[\"cc_no\"].unique()\n",
    "print(\"There are \" + str(len(uniq_cc)) + \" unique credit cards\" )\n",
    "print(\"There are \" + str(len(cc)) + \" transactions\" )\n"
   ]
  },
  {
   "cell_type": "code",
   "execution_count": null,
   "metadata": {
    "colab": {
     "base_uri": "https://localhost:8080/",
     "height": 204
    },
    "colab_type": "code",
    "collapsed": true,
    "id": "e_fcRyWqNf62",
    "outputId": "5e578920-af07-4dae-e501-3b86279eb1f6"
   },
   "outputs": [],
   "source": [
    "new_cc = cc.drop([\"pos_dt\"],axis=1).groupby(\"cc_no\").agg([\"sum\",\"mean\",\"count\"]).reset_index()\n",
    "new_cc.columns = ['cc_no','cc_sum','cc_mean','cc_count']\n",
    "new_cc.head()"
   ]
  },
  {
   "cell_type": "code",
   "execution_count": null,
   "metadata": {
    "colab": {},
    "colab_type": "code",
    "collapsed": true,
    "id": "JXXs9IGLYPzD"
   },
   "outputs": [],
   "source": [
    "cc['pos_dt'] = pd.to_datetime(cc['pos_dt'])\n",
    "new_cc['cc_days_avg_interval'] = cc.groupby('cc_no')['pos_dt'].agg(lambda group: group.sort_values().diff().mean()).reset_index()['pos_dt']\n",
    "new_cc['cc_days_avg_interval'] = new_cc['cc_days_avg_interval'].dt.days\n",
    "new_cc['cc_days_avg_interval'].fillna(0, inplace=True)"
   ]
  },
  {
   "cell_type": "code",
   "execution_count": null,
   "metadata": {
    "collapsed": true
   },
   "outputs": [],
   "source": [
    "# Get the week and month\n",
    "cc['month'] = cc.pos_dt.dt.month\n",
    "cc['week'] = cc.pos_dt.dt.week"
   ]
  },
  {
   "cell_type": "code",
   "execution_count": null,
   "metadata": {
    "collapsed": true
   },
   "outputs": [],
   "source": [
    "# Get the max and min of number of trans\n",
    "k = cc.groupby(['cc_no','month']).count()\n",
    "new_cc['cc_month_trans_max'] = k.groupby('cc_no')['cc_txn_amt'].max().reset_index().drop('cc_no',axis=1)\n",
    "new_cc['cc_month_trans_min'] = k.groupby('cc_no')['cc_txn_amt'].min().reset_index().drop('cc_no',axis=1)\n",
    "new_cc['cc_month_trans_mean'] = k.groupby('cc_no')['cc_txn_amt'].mean().reset_index().drop('cc_no',axis=1)"
   ]
  },
  {
   "cell_type": "code",
   "execution_count": null,
   "metadata": {
    "collapsed": true
   },
   "outputs": [],
   "source": [
    "# Get the max, min, and mean of monthly spending\n",
    "k = cc.groupby(['cc_no','month'])['cc_txn_amt'].sum().reset_index()\n",
    "new_cc['cc_month_max_spend'] = k.groupby(['cc_no'])['cc_txn_amt'].max().reset_index().drop('cc_no',axis=1)\n",
    "new_cc['cc_month_min_spend'] = k.groupby(['cc_no'])['cc_txn_amt'].min().reset_index().drop('cc_no',axis=1)\n",
    "new_cc['cc_month_avg_spend'] = k.groupby(['cc_no'])['cc_txn_amt'].mean().reset_index().drop('cc_no',axis=1)"
   ]
  },
  {
   "cell_type": "code",
   "execution_count": null,
   "metadata": {
    "collapsed": true
   },
   "outputs": [],
   "source": [
    "\n",
    "for month in range(1,7):\n",
    "    l = k[k.month == month].reset_index(drop=True).drop('month',axis=1)\n",
    "    l.columns = ['cc_no', 'cc_txn_amt_month_'+str(month)]\n",
    "    new_cc = new_cc.merge(l, how=\"left\", on=\"cc_no\")\n",
    "new_cc.fillna(0, inplace=True)"
   ]
  },
  {
   "cell_type": "code",
   "execution_count": null,
   "metadata": {
    "colab": {
     "base_uri": "https://localhost:8080/",
     "height": 204
    },
    "colab_type": "code",
    "collapsed": true,
    "id": "k6X3Yxp-Ashe",
    "outputId": "7baae354-ef62-45f4-9b8b-6b21dfc926a4"
   },
   "outputs": [],
   "source": [
    "df_comb = pd.merge(demograph, new_cc, on=\"cc_no\", how=\"left\")\n",
    "df_comb.fillna(0, inplace=True)\n",
    "df_comb['cc_unuse'] = (df_comb.cc_count == 0).astype('int8')\n",
    "df_comb.head()"
   ]
  },
  {
   "cell_type": "code",
   "execution_count": null,
   "metadata": {
    "colab": {
     "base_uri": "https://localhost:8080/",
     "height": 204
    },
    "colab_type": "code",
    "collapsed": true,
    "id": "3lqS_k3xSNSU",
    "outputId": "9564c9c1-c2c0-40e1-91b7-52fd27a132aa"
   },
   "outputs": [],
   "source": [
    "month_col = [\"cc_txn_amt_month_\"+str(month) for month in range(1,7)]\n",
    "\n",
    "col = [\"id\", \"cc_total_sum\", \"cc_total_mean\", \"cc_total_count\",\"cc_days_avg_interval\",\n",
    "               \"cc_month_trans_max\",\"cc_month_trans_min\",\"cc_month_trans_mean\",\"cc_month_max_spend\",\n",
    "               \"cc_month_min_spend\", \"cc_month_avg_spend\",\"cc_unuse\"] + month_col\n",
    "\n",
    "tmp = df_comb.groupby(\"id\")[[\"cc_sum\", \"cc_mean\", \"cc_count\",\"cc_days_avg_interval\", \"cc_month_trans_max\",\"cc_month_trans_min\",\"cc_month_trans_mean\",\n",
    "                             \"cc_month_max_spend\",\t\"cc_month_min_spend\", \"cc_month_avg_spend\", \"cc_unuse\"]+month_col].sum().reset_index()\n",
    "tmp.columns = col\n",
    "\n",
    "tmp['cc_num'] = df_comb.groupby('id').size().reset_index().iloc[:,1]\n",
    "tmp.head()"
   ]
  },
  {
   "cell_type": "code",
   "execution_count": null,
   "metadata": {
    "colab": {},
    "colab_type": "code",
    "collapsed": true,
    "id": "jKEYCi71i5Zg"
   },
   "outputs": [],
   "source": [
    "tmp = pd.merge(demograph.drop('cc_no', axis=1), tmp).drop_duplicates().reset_index(drop=True)"
   ]
  },
  {
   "cell_type": "code",
   "execution_count": null,
   "metadata": {
    "colab": {
     "base_uri": "https://localhost:8080/",
     "height": 224
    },
    "colab_type": "code",
    "collapsed": true,
    "id": "VXG5ILE9lacT",
    "outputId": "0412569e-7524-4575-8c4b-a211e95b0409"
   },
   "outputs": [],
   "source": [
    "tmp['cc_num_diff'] = tmp['cc_num'] - tmp['cc_unuse']\n",
    "tmp[\"cc_total_mean\"] = tmp['cc_total_mean'] / tmp['cc_num_diff']\n",
    "tmp[\"cc_avg_total_sum\"] = tmp['cc_total_sum'] / tmp['cc_num_diff']\n",
    "tmp['cc_days_avg_interval'] = tmp['cc_days_avg_interval']  / tmp['cc_num_diff']\n",
    "\n",
    "div = [\"cc_total_mean\",\"cc_days_avg_interval\",\n",
    "               \"cc_month_trans_max\",\"cc_month_trans_min\",\"cc_month_trans_mean\",\"cc_month_max_spend\",\n",
    "               \"cc_month_min_spend\", \"cc_month_avg_spend\"]\n",
    "\n",
    "\n",
    "for i in div:\n",
    "    tmp[i] = tmp[i] / tmp['cc_num_diff']\n",
    "tmp.fillna(0, inplace=True)\n",
    "\n",
    "tmp.head()"
   ]
  },
  {
   "cell_type": "code",
   "execution_count": null,
   "metadata": {
    "collapsed": true
   },
   "outputs": [],
   "source": [
    "tmp = pd.merge(tmp, df_kp, on=\"id\", how=\"left\")\n",
    "tmp.fillna(0, inplace=True)\n",
    "tmp.head()"
   ]
  },
  {
   "cell_type": "code",
   "execution_count": null,
   "metadata": {
    "colab": {
     "base_uri": "https://localhost:8080/",
     "height": 224
    },
    "colab_type": "code",
    "collapsed": true,
    "id": "JFiKtFwMxR66",
    "outputId": "9c3d288c-a100-4686-a078-f558e242e085"
   },
   "outputs": [],
   "source": [
    "# Sum and diff\n",
    "tmp[\"comb_spend\"] = tmp[\"cc_total_sum\"] + tmp[\"kp_sum_amt\"]\n",
    "tmp[\"comb_trans\"] = tmp[\"cc_total_count\"] + tmp[\"kp_sum_count\"]\n",
    "tmp[\"comb_spend_trans\"] = tmp['comb_spend'] / tmp['comb_trans']\n",
    "# Ratio\n",
    "tmp[\"comb_spend_diff_ratio\"] = np.abs(tmp['kp_sum_amt'] - tmp['cc_total_sum']) / tmp[\"comb_spend\"]\n",
    "tmp[\"comb_trans_diff_ratio\"] = np.abs(tmp['kp_sum_count'] - tmp['cc_total_count']) / tmp[\"comb_trans\"]\n",
    "tmp[\"comb_kp_spend_ratio\"] = tmp['kp_sum_amt'] / tmp['comb_spend']\n",
    "\n",
    "tmp['cc_month_max_min_spend_rat'] = tmp['cc_month_max_spend']/tmp['cc_month_min_spend']\n",
    "tmp['kp_month_max_min_spend_rat'] = tmp['kp_month_max_spending_max']/tmp['kp_month_min_spending_min']\n",
    "tmp['kp_month_max_min_spend_mean_rat'] = tmp['kp_month_max_spending_mean'] / tmp['kp_month_min_spending_mean']\n",
    "\n",
    "tmp['kp_txn_amt_max_min_finweek_rat'] = tmp['kp_txn_amt_max_fin_week'] / tmp['kp_txn_amt_min_fin_week']\n",
    "tmp['kp_txn_count_max_min_finweek_rat'] =tmp['kp_txn_count_max_fin_week'] / tmp['kp_txn_count_min_fin_week']\n",
    "\n",
    "tmp['cc_month_trans_max_min'] = tmp['cc_month_trans_max'] / tmp['cc_month_trans_min']\n",
    "tmp[\"comb_kp_trans_ratio\"] = tmp['kp_sum_count'] / tmp['comb_trans']\n",
    "\n",
    "\n",
    "# Bad Feature\n",
    "tmp.drop(['cc_num_diff'],axis=1, inplace=True)"
   ]
  },
  {
   "cell_type": "code",
   "execution_count": null,
   "metadata": {
    "collapsed": true
   },
   "outputs": [],
   "source": [
    "# Drop unimportant feature from feature selection from SHAP importance\n",
    "bad_feat = [\"comb_trans_diff_ratio\",\"kp_txn_count_min_fin_week\",\n",
    "            \"kp_txn_count_max_min_finweek_rat\",\n",
    "            \"kp_txn_count_max_fin_week\",\"kp_txn_amt_max_min_finweek_rat\"]\n",
    "\n",
    "tmp.drop(bad_feat,axis=1, inplace=True)"
   ]
  },
  {
   "cell_type": "code",
   "execution_count": null,
   "metadata": {
    "colab": {
     "base_uri": "https://localhost:8080/",
     "height": 224
    },
    "colab_type": "code",
    "collapsed": true,
    "id": "fWccL54sv_iw",
    "outputId": "93e6dd7d-928f-49ea-cfe7-bfb499037d7a"
   },
   "outputs": [],
   "source": [
    "train_df = pd.merge(train, tmp, on=\"id\", how=\"left\")\n",
    "train_df.fillna(0, inplace=True)\n",
    "train_df.head()"
   ]
  },
  {
   "cell_type": "code",
   "execution_count": null,
   "metadata": {
    "colab": {},
    "colab_type": "code",
    "collapsed": true,
    "id": "stDQLgLThnjw"
   },
   "outputs": [],
   "source": [
    "def smape(F, A):\n",
    "    return 100- ((100/len(A)) * np.sum(np.power(np.abs(F - A), 2) / np.power(np.minimum(2*np.abs(A), np.abs(F)) + np.abs(A), 2)))\n",
    "\n",
    "def xgb_smape(F, A):\n",
    "    A_label = A.get_label()\n",
    "    return 'SMAPE',smape(np.exp(F), np.exp(A_label))\n"
   ]
  },
  {
   "cell_type": "code",
   "execution_count": null,
   "metadata": {
    "colab": {
     "base_uri": "https://localhost:8080/",
     "height": 296
    },
    "colab_type": "code",
    "collapsed": true,
    "id": "oRzju9ogm4Cg",
    "outputId": "a0803a58-11f0-4221-f7ba-c8d406bd1c1f"
   },
   "outputs": [],
   "source": [
    "# All non-zero income value, can use log instead of log1p.\n",
    "train_df['income'] = np.log(train_df['income'])\n",
    "sns.distplot(train_df['income'])"
   ]
  },
  {
   "cell_type": "code",
   "execution_count": null,
   "metadata": {
    "colab": {},
    "colab_type": "code",
    "collapsed": true,
    "id": "MgWfp6Nb7BkQ"
   },
   "outputs": [],
   "source": [
    "X_train, X_test, y_train, y_test = train_test_split(train_df.drop([\"income\",\"id\"],axis=1), train_df[\"income\"], test_size = 0.3, random_state=42)"
   ]
  },
  {
   "cell_type": "code",
   "execution_count": null,
   "metadata": {
    "collapsed": true
   },
   "outputs": [],
   "source": [
    "# Use best hyperparameters to create a model\n",
    "# XGB Regressor, GBT from hyperopt Bayesian Optimization\n",
    "# 5-Fold CV Smape: 92.08001\n",
    "# Validation Smape: 92.20557\n",
    "params = {'colsample_bytree': 0.4074158302407245, \n",
    " 'gamma': 0.3630782973578546, \n",
    " 'learning_rate': 0.01001134673166224, \n",
    " 'max_depth': 9, 'min_child_weight': 7.0, \n",
    " 'random_state': 42, \n",
    " 'reg_alpha': 0.6057473986184368, \n",
    " 'reg_lambda': 0.9871588260368804, \n",
    " 'seed': 42,\n",
    " 'nthread': -1, \n",
    " 'silent': 1, \n",
    " 'n_estimators': 434}\n",
    "\n",
    "model =  xgb.XGBRegressor(**params)\n",
    "model.fit(X_train, y_train)"
   ]
  },
  {
   "cell_type": "code",
   "execution_count": null,
   "metadata": {
    "collapsed": true
   },
   "outputs": [],
   "source": [
    "preds = np.exp(model.predict(X_test))\n",
    "print('SMAPE from on test data = {:.5f}.'.format(smape(preds, np.exp(y_test))))"
   ]
  },
  {
   "cell_type": "code",
   "execution_count": null,
   "metadata": {
    "collapsed": true
   },
   "outputs": [],
   "source": [
    "# Implement feature engineering for test data here\n",
    "test_df = pd.merge(test, tmp, how=\"left\")\n",
    "test_df.fillna(0, inplace=True)\n",
    "\n",
    "# Predict the test data\n",
    "test_preds = np.exp(model.predict(test_df.drop(['id'], axis=1)))\n",
    "test['income'] = np.round(test_preds, 2)\n",
    "test.to_csv('O_1033.csv', index = False, header=True)"
   ]
  }
 ],
 "metadata": {
  "colab": {
   "collapsed_sections": [],
   "name": "Techjam 2019",
   "provenance": []
  },
  "kernelspec": {
   "display_name": "Python 3",
   "language": "python",
   "name": "python3"
  },
  "language_info": {
   "codemirror_mode": {
    "name": "ipython",
    "version": 2
   },
   "file_extension": ".py",
   "mimetype": "text/x-python",
   "name": "python",
   "nbconvert_exporter": "python",
   "pygments_lexer": "ipython2",
   "version": "2.7.14"
  }
 },
 "nbformat": 4,
 "nbformat_minor": 1
}
